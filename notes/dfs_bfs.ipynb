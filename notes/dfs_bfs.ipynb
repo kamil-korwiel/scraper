{
 "cells": [
  {
   "cell_type": "code",
   "execution_count": 89,
   "metadata": {},
   "outputs": [],
   "source": [
    "import queue\n",
    "from queue import Queue , LifoQueue"
   ]
  },
  {
   "cell_type": "markdown",
   "metadata": {},
   "source": [
    "# Generate Data"
   ]
  },
  {
   "cell_type": "code",
   "execution_count": 90,
   "metadata": {},
   "outputs": [
    {
     "name": "stdout",
     "output_type": "stream",
     "text": [
      "{'links_2'}\n"
     ]
    }
   ],
   "source": [
    "import random\n",
    "from icecream import ic\n",
    "l: list[str] = [f\"links_{i}\" for i in range(25)]\n",
    "\n",
    "def get_links(url: str, list_of_links: list, nr_of_one_node_have_relation: int = 3) -> set[str]:\n",
    "    paylod: set = set()\n",
    "    how_mouny = random.randint(0, nr_of_one_node_have_relation)\n",
    "    # ic(how_mouny)\n",
    "    for _ in range(how_mouny):\n",
    "        # ic(len(list_of_links))\n",
    "        if len(list_of_links) != 0:\n",
    "            number = random.randint(0, len(list_of_links) - 1)\n",
    "            # ic(number)\n",
    "            paylod.add(list_of_links[number])\n",
    "            del list_of_links[number]\n",
    "    return paylod\n",
    "\n",
    "\n",
    "print(get_links(\"url\",l))"
   ]
  },
  {
   "cell_type": "markdown",
   "metadata": {},
   "source": [
    "# BFS"
   ]
  },
  {
   "cell_type": "code",
   "execution_count": 92,
   "metadata": {},
   "outputs": [
    {
     "name": "stdout",
     "output_type": "stream",
     "text": [
      "start  0  ['links_16', 'links_5', 'links_22']\n",
      "links_16  1  ['links_3', 'links_8']\n",
      "links_5  1  ['links_19', 'links_4']\n",
      "links_22  1  []\n",
      "links_3  2  []\n",
      "links_8  2  ['links_6', 'links_23', 'links_18']\n",
      "links_19  2  []\n",
      "links_4  2  ['links_10', 'links_7']\n",
      "links_6  3  ['links_1', 'links_24', 'links_20']\n",
      "links_23  3  ['links_2']\n",
      "links_18  3  ['links_12', 'links_0', 'links_15']\n",
      "links_10  3  ['links_21', 'links_9']\n",
      "links_7  3  []\n"
     ]
    }
   ],
   "source": [
    "links: list[str] = [f\"links_{i}\" for i in range(25)]\n",
    "\n",
    "que = Queue()\n",
    "\n",
    "\n",
    "def bfs(url: str, deep_limit: int):\n",
    "    \n",
    "    que.put((url,0))\n",
    "    \n",
    "    while not que.empty():\n",
    "        # GET\n",
    "        current_url, deep = que.get()\n",
    "        if deep > deep_limit:\n",
    "            break\n",
    "         # PROCES\n",
    "        list_links: set[str] = get_links(current_url,links)\n",
    "        # PUSH\n",
    "        for link_url in list_links:\n",
    "            que.put((link_url,deep + 1))\n",
    "\n",
    "        print(current_url + \"  \" + str(deep) + \"  \" + f\"{[i for i in list_links]}\")\n",
    "\n",
    "bfs(\"start\",3)"
   ]
  },
  {
   "cell_type": "markdown",
   "metadata": {},
   "source": [
    "# DFS"
   ]
  },
  {
   "cell_type": "code",
   "execution_count": 97,
   "metadata": {},
   "outputs": [
    {
     "name": "stdout",
     "output_type": "stream",
     "text": [
      "start  0  ['links_16', 'links_17', 'links_23']\n",
      "links_23  1  ['links_21', 'links_10', 'links_11']\n",
      "links_11  2  ['links_0']\n",
      "links_0  3  ['links_3', 'links_13', 'links_22']\n"
     ]
    }
   ],
   "source": [
    "links: list[str] = [f\"links_{i}\" for i in range(25)]\n",
    "\n",
    "stac = LifoQueue()\n",
    "\n",
    "\n",
    "def dfs(url: str, deep_limit: int):\n",
    "    \n",
    "    stac.put((url,0)) #* <- What data i put in in first place\n",
    "    \n",
    "    while not stac.empty():\n",
    "        # GET\n",
    "        current_url, deep = stac.get()\n",
    "        if deep > deep_limit:\n",
    "            break\n",
    "         # PROCES\n",
    "        list_links: set[str] = get_links(current_url,links) #* <- How i get the new nodes\n",
    "        # PUSH\n",
    "        for link_url in list_links:\n",
    "            stac.put((link_url,deep + 1))\n",
    "\n",
    "        print(current_url + \"  \" + str(deep) + \"  \" + f\"{[i for i in list_links]}\")\n",
    "dfs(\"start\",3)"
   ]
  },
  {
   "cell_type": "code",
   "execution_count": 5,
   "metadata": {},
   "outputs": [
    {
     "name": "stdout",
     "output_type": "stream",
     "text": [
      "1\n",
      "2\n",
      "3\n",
      "\n",
      "3\n",
      "2\n",
      "1\n"
     ]
    }
   ],
   "source": [
    "import queue\n",
    "que = queue.Queue()\n",
    "que.put(1)\n",
    "que.put(2)\n",
    "que.put(3)\n",
    "\n",
    "print(que.get())\n",
    "print(que.get())\n",
    "print(que.get())\n",
    "\n",
    "stac = queue.LifoQueue()\n",
    "stac.put(1)\n",
    "stac.put(2)\n",
    "stac.put(3)\n",
    "print()\n",
    "print(stac.get())\n",
    "print(stac.get())\n",
    "print(stac.get())\n"
   ]
  },
  {
   "cell_type": "code",
   "execution_count": 95,
   "metadata": {},
   "outputs": [
    {
     "name": "stdout",
     "output_type": "stream",
     "text": [
      "True\n"
     ]
    }
   ],
   "source": [
    "logic = True\n",
    "while (logic):\n",
    "    print(logic)\n",
    "    logic = False"
   ]
  },
  {
   "cell_type": "code",
   "execution_count": 100,
   "metadata": {},
   "outputs": [
    {
     "data": {
      "text/plain": [
       "2"
      ]
     },
     "execution_count": 100,
     "metadata": {},
     "output_type": "execute_result"
    }
   ],
   "source": [
    "class Test:\n",
    "    i: int \n",
    "    def __init__(self,i:int=2) -> None:\n",
    "        self.i = i\n",
    "t = Test()\n",
    "t.i"
   ]
  },
  {
   "cell_type": "code",
   "execution_count": 2,
   "metadata": {},
   "outputs": [
    {
     "data": {
      "text/plain": [
       "{5}"
      ]
     },
     "execution_count": 2,
     "metadata": {},
     "output_type": "execute_result"
    }
   ],
   "source": [
    "old = set([1,2,3,4])\n",
    "new = set([2,3,4,5])\n",
    "new - old\n"
   ]
  },
  {
   "cell_type": "code",
   "execution_count": 11,
   "metadata": {},
   "outputs": [
    {
     "name": "stdout",
     "output_type": "stream",
     "text": [
      "uno\n",
      "dos\n",
      "tres\n"
     ]
    }
   ],
   "source": [
    "import queue\n",
    "que = queue.Queue()\n",
    "list_links = [\"uno\",\"dos\",\"tres\"]\n",
    "deep = 0\n",
    "_=list(map(que.put, list_links))\n",
    "print(que.get())\n",
    "print(que.get())\n",
    "print(que.get())"
   ]
  }
 ],
 "metadata": {
  "kernelspec": {
   "display_name": "venv",
   "language": "python",
   "name": "python3"
  },
  "language_info": {
   "codemirror_mode": {
    "name": "ipython",
    "version": 3
   },
   "file_extension": ".py",
   "mimetype": "text/x-python",
   "name": "python",
   "nbconvert_exporter": "python",
   "pygments_lexer": "ipython3",
   "version": "3.12.1"
  }
 },
 "nbformat": 4,
 "nbformat_minor": 2
}
