{
 "cells": [
  {
   "cell_type": "code",
   "execution_count": 122,
   "metadata": {},
   "outputs": [],
   "source": [
    "import queue\n",
    "from queue import Queue"
   ]
  },
  {
   "cell_type": "code",
   "execution_count": 133,
   "metadata": {},
   "outputs": [
    {
     "name": "stderr",
     "output_type": "stream",
     "text": [
      "ic| how_mouny: 1\n"
     ]
    },
    {
     "name": "stdout",
     "output_type": "stream",
     "text": [
      "{'links_3'}\n"
     ]
    }
   ],
   "source": [
    "import random\n",
    "from icecream import ic\n",
    "\n",
    "\n",
    "def get_links(url: str) -> set[str]:\n",
    "    paylod: set = set()\n",
    "    how_mouny = random.randint(0, 3)\n",
    "    if len(list_of_links)  == 0: ic(False)\n",
    "    ic(how_mouny)\n",
    "    for _ in range(how_mouny):\n",
    "        # ic(len(list_of_links))\n",
    "        if len(list_of_links) != 0:\n",
    "            number = random.randint(0, len(list_of_links) - 1)\n",
    "            # ic(number)\n",
    "            paylod.add(list_of_links[number])\n",
    "            del list_of_links[number]\n",
    "    return paylod\n",
    "\n",
    "\n",
    "print(get_links(\"url\"))"
   ]
  },
  {
   "cell_type": "code",
   "execution_count": 120,
   "metadata": {},
   "outputs": [
    {
     "name": "stderr",
     "output_type": "stream",
     "text": [
      "ic| how_mouny: 2\n",
      "ic| how_mouny: 2\n",
      "ic| how_mouny: 1\n",
      "ic| how_mouny: 0\n",
      "ic| how_mouny: 3\n",
      "ic| how_mouny: 2\n",
      "ic| how_mouny: 2\n",
      "ic| how_mouny: 2\n",
      "ic| how_mouny: 2\n",
      "ic| how_mouny: 2\n",
      "ic| how_mouny: 1\n",
      "ic| how_mouny: 1\n",
      "ic| how_mouny: 2\n",
      "ic| how_mouny: 2\n",
      "ic| how_mouny: 0\n"
     ]
    },
    {
     "name": "stdout",
     "output_type": "stream",
     "text": [
      "start\n",
      "\tlinks_24\n",
      "\t\tlinks_21\n",
      "\t\t\tlinks_18\n",
      "\t\tlinks_2\n",
      "\t\t\tlinks_19\n",
      "\t\t\tlinks_17\n",
      "\t\t\tlinks_10\n",
      "\tlinks_13\n",
      "\t\tlinks_3\n",
      "\t\t\tlinks_9\n",
      "\t\t\tlinks_0\n",
      "\t\tlinks_15\n",
      "\t\t\tlinks_14\n",
      "\t\t\tlinks_12\n"
     ]
    }
   ],
   "source": [
    "list_of_links: list[str] = [f\"links_{i}\" for i in range(25)]\n",
    "def scrape(url: str, limit: int, _deep: int = 0):\n",
    "    links: set[str] = get_links(url)\n",
    "    print( '\\t' * _deep + str(url))\n",
    "    if _deep < limit:\n",
    "        deep = _deep + 1\n",
    "        for l in links:\n",
    "            scrape(l, limit, deep)\n",
    "\n",
    "scrape(\"start\",limit=3)\n"
   ]
  },
  {
   "cell_type": "code",
   "execution_count": 110,
   "metadata": {},
   "outputs": [
    {
     "name": "stderr",
     "output_type": "stream",
     "text": [
      "ic| how_mouny: 3\n",
      "ic| how_mouny: 2\n",
      "ic| how_mouny: 3\n"
     ]
    },
    {
     "name": "stdout",
     "output_type": "stream",
     "text": [
      "start\n",
      "\tlinks_22\n",
      "\t\tlinks_21\n",
      "\t\t\tlinks_24\n",
      "\t\t\tlinks_23\n",
      "\t\t\tlinks_12\n",
      "\t\t\tlinks_20\n",
      "\t\t\tlinks_2\n",
      "\t\t\tlinks_10\n"
     ]
    }
   ],
   "source": [
    "def x(url: str, deep_limit: int):\n",
    "    deep = 0\n",
    "\n",
    "    def walk(url):\n",
    "        nonlocal deep\n",
    "        print( '\\t' * deep + str(url))\n",
    "        if deep < deep_limit:\n",
    "            deep += 1\n",
    "            links: set[str] = get_links(url)\n",
    "            for l in links:\n",
    "                walk(l)\n",
    "\n",
    "    walk(url)\n",
    "x(\"start\",deep_limit=3)"
   ]
  },
  {
   "cell_type": "code",
   "execution_count": 121,
   "metadata": {},
   "outputs": [
    {
     "name": "stderr",
     "output_type": "stream",
     "text": [
      "ic| how_mouny: 3\n",
      "ic| how_mouny: 0\n",
      "ic| how_mouny: 3\n",
      "ic| how_mouny: 1\n",
      "ic| how_mouny: 3\n",
      "ic| how_mouny: 1\n",
      "ic| how_mouny: 2\n",
      "ic| how_mouny: 1\n",
      "ic| how_mouny: 3\n",
      "ic| how_mouny: 2\n",
      "ic| how_mouny: 2\n",
      "ic| how_mouny: 2\n",
      "ic| how_mouny: 2\n",
      "ic| how_mouny: 2\n"
     ]
    },
    {
     "name": "stdout",
     "output_type": "stream",
     "text": [
      "start\n",
      "\tlinks_17\n",
      "\tlinks_14\n",
      "\t\tlinks_3\n",
      "\t\t\tlinks_4\n",
      "\t\tlinks_5\n",
      "\t\t\tlinks_10\n",
      "\t\tlinks_8\n",
      "\t\t\tlinks_20\n",
      "\tlinks_11\n",
      "\t\tlinks_7\n",
      "\t\t\tlinks_21\n",
      "\t\t\tlinks_22\n",
      "\t\tlinks_13\n"
     ]
    }
   ],
   "source": [
    "list_of_links: list[str] = [f\"links_{i}\" for i in range(25)]\n",
    "tab = 3\n",
    "def scrape(url: str, deep):\n",
    "    links: set[str] = get_links(url)\n",
    "    print( '\\t' * abs(deep-tab) + str(url))\n",
    "    if deep != 0:\n",
    "        for l in links:\n",
    "            scrape(l, deep-1)\n",
    "\n",
    "scrape(\"start\",tab)\n"
   ]
  },
  {
   "cell_type": "code",
   "execution_count": 140,
   "metadata": {},
   "outputs": [
    {
     "name": "stderr",
     "output_type": "stream",
     "text": [
      "ic| how_mouny: 3\n",
      "ic| how_mouny: 2\n",
      "ic| how_mouny: 2\n",
      "ic| how_mouny: 0\n",
      "ic| how_mouny: 1\n",
      "ic| how_mouny: 2\n",
      "ic| how_mouny: 2\n",
      "ic| how_mouny: 2\n",
      "ic| how_mouny: 1\n",
      "ic| how_mouny: 0\n",
      "ic| how_mouny: 3\n",
      "ic| how_mouny: 2\n",
      "ic| how_mouny: 1\n",
      "ic| how_mouny: 3\n",
      "ic| how_mouny: 0\n"
     ]
    },
    {
     "name": "stdout",
     "output_type": "stream",
     "text": [
      "start\n",
      "[('start', 'links_24'), ('start', 'links_17'), ('start', 'links_15')]\n",
      "[('links_24', 'links_22'), ('links_24', 'links_12'), ('links_17', 'links_2'), ('links_17', 'links_19')]\n",
      "[('links_22', 'links_9'), ('links_12', 'links_3'), ('links_12', 'links_23'), ('links_2', 'links_13'), ('links_2', 'links_14'), ('links_19', 'links_16'), ('links_19', 'links_5')]\n"
     ]
    }
   ],
   "source": [
    "list_of_links: list[str] = [f\"links_{i}\" for i in range(25)]\n",
    "def scrape(url: str, deep):\n",
    "    que = []\n",
    "    tmp = []\n",
    "    print(url)\n",
    "    que += [ (url,il) for il in get_links(url)]\n",
    "    for i in range(1,deep+1):\n",
    "        print(str(que))\n",
    "        for l in que:\n",
    "            tmp += [ (l[1],il) for il in get_links(l[1])]\n",
    "        que = tmp.copy()\n",
    "        tmp.clear()\n",
    "\n",
    "scrape(\"start\", 3)"
   ]
  }
 ],
 "metadata": {
  "kernelspec": {
   "display_name": "venv",
   "language": "python",
   "name": "python3"
  },
  "language_info": {
   "codemirror_mode": {
    "name": "ipython",
    "version": 3
   },
   "file_extension": ".py",
   "mimetype": "text/x-python",
   "name": "python",
   "nbconvert_exporter": "python",
   "pygments_lexer": "ipython3",
   "version": "3.12.1"
  }
 },
 "nbformat": 4,
 "nbformat_minor": 2
}
